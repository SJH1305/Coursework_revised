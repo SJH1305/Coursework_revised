{
 "cells": [
  {
   "cell_type": "code",
   "execution_count": 2,
   "id": "a5c3ceb0-37f7-4050-a60c-fba82b480d5a",
   "metadata": {},
   "outputs": [],
   "source": [
    "# Calculating the Convergence statistic (R_hat)"
   ]
  },
  {
   "cell_type": "code",
   "execution_count": null,
   "id": "3905d3f8-5ecc-4d89-b76b-dd9c907f51ee",
   "metadata": {},
   "outputs": [],
   "source": [
    "## Generating the sequences, J = 4"
   ]
  },
  {
   "cell_type": "code",
   "execution_count": 4,
   "id": "e9c2c4d9-b079-44e5-bb07-6ef4ad13c70d",
   "metadata": {},
   "outputs": [
    {
     "data": {
      "text/plain": [
       "[-0.00011026505672990792,\n",
       " 4.010759781431278e-06,\n",
       " 1.0026899453578195e-06,\n",
       " -2.756626418247698e-05,\n",
       " 3.8808075523849585e-11,\n",
       " 1.000019351794742]"
      ]
     },
     "execution_count": 4,
     "metadata": {},
     "output_type": "execute_result"
    }
   ],
   "source": [
    "import numpy as np\n",
    "import matplotlib.pyplot as plt \n",
    "\n",
    "np.random.seed(12)\n",
    "numbers_0 = np.random.normal(size = 2000, scale = 0.001) \n",
    "\n",
    "np.random.seed(13)\n",
    "numbers_1 = np.random.normal(size = 2000, scale = 0.001) \n",
    "\n",
    "np.random.seed(14)\n",
    "numbers_2 = np.random.normal(size = 2000, scale = 0.001) \n",
    "\n",
    "np.random.seed(15)\n",
    "numbers_3 = np.random.normal(size = 2000, scale = 0.001) \n",
    "\n",
    "# initial values - different \n",
    "\n",
    "# sample mean of chain j (M_j)\n",
    "M_j = (np.sum(numbers_0)/2000) + (np.sum(numbers_1)/2000) + (np.sum(numbers_2)/2000) + (np.sum(numbers_3)/2000)\n",
    "\n",
    "# within sample variance of chain j (V_j) \n",
    "M_0 = np.sum(numbers_0)/2000\n",
    "M_1 = np.sum(numbers_1)/2000\n",
    "M_2 = np.sum(numbers_2)/2000\n",
    "M_3 = np.sum(numbers_3)/2000\n",
    "V_j = (np.sum((numbers_0 - M_0)**2) / 2000) + (np.sum((numbers_1 - M_1)**2) / 2000) + (np.sum((numbers_2 - M_2)**2) / 2000) + (np.sum((numbers_3 - M_3)**2) / 2000)\n",
    "\n",
    "# overall within sample variance (W)\n",
    "W = (V_j)/4\n",
    "\n",
    "# overall sample mean (M)\n",
    "M = (M_j)/4\n",
    "\n",
    "# between sample variance (B)\n",
    "B = (((M_0 - M)**2) + ((M_2 - M)**2) + ((M_2 - M)**2) + ((M_3 - M)**2))/4\n",
    "\n",
    "# convergence statistic, r_hat \n",
    "r_hat = np.sqrt((B + W)/W)\n",
    "\n",
    "results = [M_j , V_j , W , M , B , r_hat]\n",
    "results"
   ]
  },
  {
   "cell_type": "code",
   "execution_count": 38,
   "id": "61a0fd60-b019-4675-85de-2b37462d2020",
   "metadata": {},
   "outputs": [
    {
     "data": {
      "image/png": "[encoded data removed]",
      "text/plain": [
       "<Figure size 640x480 with 1 Axes>"
      ]
     },
     "metadata": {},
     "output_type": "display_data"
    }
   ],
   "source": [
    "# 's' generator - values between 0.001 and 1\n",
    "s_values = np.linspace(0.001, 1, 50) # s \n",
    "\n",
    "def compute_rhats(s, N=2000):\n",
    "    np.random.seed(12)\n",
    "    numbers_0 = np.random.normal(size = 2000, scale = s) \n",
    "    np.random.seed(13)\n",
    "    numbers_1 = np.random.normal(size = 2000, scale = s) \n",
    "    np.random.seed(14)\n",
    "    numbers_2 = np.random.normal(size = 2000, scale = s) \n",
    "    np.random.seed(15)\n",
    "    numbers_3 = np.random.normal(size = 2000, scale = s) \n",
    "    chains = [numbers_0,numbers_1,numbers_2,numbers_3]\n",
    "\n",
    "    M_j = [np.mean(chain) for chain in chains]\n",
    "    V_j = [np.var(chain, ddof = 0) for chain in chains]\n",
    "    M = np.mean(M_j)\n",
    "    W = np.mean(V_j)\n",
    "    B = np.mean([(mj - M)**2 for mj in M_j])\n",
    "    r_hat = np.sqrt((B+W)/W)\n",
    "    return r_hat\n",
    "\n",
    "rhat_values = [compute_rhats(s) for s in s_values]\n",
    "\n",
    "plt.plot(s_values, rhat_values, marker = 'o')\n",
    "plt.ylim(0.9999, 1.0001)\n",
    "plt.xlabel(\"'s' values\")\n",
    "plt.ylabel(\"rhat values\")\n",
    "plt.tight_layout()\n",
    "plt.savefig(\"Part 1b.png\")\n",
    "plt.show()"
   ]
  }
 ],
 "metadata": {
  "kernelspec": {
   "display_name": "Python [conda env:base] *",
   "language": "python",
   "name": "conda-base-py"
  },
  "language_info": {
   "codemirror_mode": {
    "name": "ipython",
    "version": 3
   },
   "file_extension": ".py",
   "mimetype": "text/x-python",
   "name": "python",
   "nbconvert_exporter": "python",
   "pygments_lexer": "ipython3",
   "version": "3.12.7"
  }
 },
 "nbformat": 4,
 "nbformat_minor": 5
}
